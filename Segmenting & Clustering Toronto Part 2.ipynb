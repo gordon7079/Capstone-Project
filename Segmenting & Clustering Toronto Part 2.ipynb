{
    "cells": [
        {
            "cell_type": "markdown",
            "metadata": {
                "collapsed": true
            },
            "source": "Import requests and panda."
        },
        {
            "cell_type": "code",
            "execution_count": 3,
            "metadata": {},
            "outputs": [],
            "source": "import requests\nimport pandas as pd"
        },
        {
            "cell_type": "markdown",
            "metadata": {},
            "source": "Get the HTML of the wiki page, convert it into a table with the help of \"read_html\" (to read HTML tables into a list of DataFrame elements) and then remove the cells with a borough that appears as \"Not Assigned\"."
        },
        {
            "cell_type": "code",
            "execution_count": 4,
            "metadata": {},
            "outputs": [
                {
                    "data": {
                        "text/html": "<div>\n<style scoped>\n    .dataframe tbody tr th:only-of-type {\n        vertical-align: middle;\n    }\n\n    .dataframe tbody tr th {\n        vertical-align: top;\n    }\n\n    .dataframe thead th {\n        text-align: right;\n    }\n</style>\n<table border=\"1\" class=\"dataframe\">\n  <thead>\n    <tr style=\"text-align: right;\">\n      <th></th>\n      <th>Postal Code</th>\n      <th>Borough</th>\n      <th>Neighborhood</th>\n    </tr>\n  </thead>\n  <tbody>\n    <tr>\n      <th>2</th>\n      <td>M3A</td>\n      <td>North York</td>\n      <td>Parkwoods</td>\n    </tr>\n    <tr>\n      <th>3</th>\n      <td>M4A</td>\n      <td>North York</td>\n      <td>Victoria Village</td>\n    </tr>\n    <tr>\n      <th>4</th>\n      <td>M5A</td>\n      <td>Downtown Toronto</td>\n      <td>Regent Park, Harbourfront</td>\n    </tr>\n    <tr>\n      <th>5</th>\n      <td>M6A</td>\n      <td>North York</td>\n      <td>Lawrence Manor, Lawrence Heights</td>\n    </tr>\n    <tr>\n      <th>6</th>\n      <td>M7A</td>\n      <td>Downtown Toronto</td>\n      <td>Queen's Park, Ontario Provincial Government</td>\n    </tr>\n  </tbody>\n</table>\n</div>",
                        "text/plain": "  Postal Code           Borough                                 Neighborhood\n2         M3A        North York                                    Parkwoods\n3         M4A        North York                             Victoria Village\n4         M5A  Downtown Toronto                    Regent Park, Harbourfront\n5         M6A        North York             Lawrence Manor, Lawrence Heights\n6         M7A  Downtown Toronto  Queen's Park, Ontario Provincial Government"
                    },
                    "execution_count": 4,
                    "metadata": {},
                    "output_type": "execute_result"
                }
            ],
            "source": "wiki = 'https://en.wikipedia.org/wiki/List_of_postal_codes_of_Canada:_M'\nwikipedia_page = requests.get(wiki)\n\ndf_raw = pd.read_html(wikipedia_page.content, header = 0)[0]\ndf_new = df_raw[df_raw.Borough != 'Not assigned']\n\ndf_new.head()"
        },
        {
            "cell_type": "markdown",
            "metadata": {},
            "source": "Find whether there is a \"Not assigned\" appearing in Neighbourhood column."
        },
        {
            "cell_type": "code",
            "execution_count": 5,
            "metadata": {},
            "outputs": [
                {
                    "data": {
                        "text/html": "<div>\n<style scoped>\n    .dataframe tbody tr th:only-of-type {\n        vertical-align: middle;\n    }\n\n    .dataframe tbody tr th {\n        vertical-align: top;\n    }\n\n    .dataframe thead th {\n        text-align: right;\n    }\n</style>\n<table border=\"1\" class=\"dataframe\">\n  <thead>\n    <tr style=\"text-align: right;\">\n      <th></th>\n      <th>Postal Code</th>\n      <th>Borough</th>\n      <th>Neighborhood</th>\n    </tr>\n  </thead>\n  <tbody>\n  </tbody>\n</table>\n</div>",
                        "text/plain": "Empty DataFrame\nColumns: [Postal Code, Borough, Neighborhood]\nIndex: []"
                    },
                    "execution_count": 5,
                    "metadata": {},
                    "output_type": "execute_result"
                }
            ],
            "source": "df_new.loc[df_new.Neighborhood == 'Not assigned']"
        },
        {
            "cell_type": "markdown",
            "metadata": {},
            "source": "In the case that if we have Neighborhood of \"Not assigned\", we change it in accordance with the element of Borough, by using the following code:\n\"df_new.Neighborhood.replace('Not assigned', df_new.Borough, inplace = True)\""
        },
        {
            "cell_type": "markdown",
            "metadata": {},
            "source": "However, since right now there is no 'Not assigned\" shown in Neighborhood column, we can ignore this step."
        },
        {
            "cell_type": "code",
            "execution_count": 6,
            "metadata": {},
            "outputs": [
                {
                    "data": {
                        "text/plain": "(103, 3)"
                    },
                    "execution_count": 6,
                    "metadata": {},
                    "output_type": "execute_result"
                }
            ],
            "source": "df_new.shape"
        },
        {
            "cell_type": "markdown",
            "metadata": {},
            "source": "**Obtain Latitude and Longitude coordinates for each neighborhood.**"
        },
        {
            "cell_type": "markdown",
            "metadata": {},
            "source": "Use the csv file provided."
        },
        {
            "cell_type": "code",
            "execution_count": 8,
            "metadata": {},
            "outputs": [
                {
                    "data": {
                        "text/html": "<div>\n<style scoped>\n    .dataframe tbody tr th:only-of-type {\n        vertical-align: middle;\n    }\n\n    .dataframe tbody tr th {\n        vertical-align: top;\n    }\n\n    .dataframe thead th {\n        text-align: right;\n    }\n</style>\n<table border=\"1\" class=\"dataframe\">\n  <thead>\n    <tr style=\"text-align: right;\">\n      <th></th>\n      <th>Postal Code</th>\n      <th>Latitude</th>\n      <th>Longitude</th>\n    </tr>\n  </thead>\n  <tbody>\n    <tr>\n      <th>0</th>\n      <td>M1B</td>\n      <td>43.806686</td>\n      <td>-79.194353</td>\n    </tr>\n    <tr>\n      <th>1</th>\n      <td>M1C</td>\n      <td>43.784535</td>\n      <td>-79.160497</td>\n    </tr>\n    <tr>\n      <th>2</th>\n      <td>M1E</td>\n      <td>43.763573</td>\n      <td>-79.188711</td>\n    </tr>\n    <tr>\n      <th>3</th>\n      <td>M1G</td>\n      <td>43.770992</td>\n      <td>-79.216917</td>\n    </tr>\n    <tr>\n      <th>4</th>\n      <td>M1H</td>\n      <td>43.773136</td>\n      <td>-79.239476</td>\n    </tr>\n  </tbody>\n</table>\n</div>",
                        "text/plain": "  Postal Code   Latitude  Longitude\n0         M1B  43.806686 -79.194353\n1         M1C  43.784535 -79.160497\n2         M1E  43.763573 -79.188711\n3         M1G  43.770992 -79.216917\n4         M1H  43.773136 -79.239476"
                    },
                    "execution_count": 8,
                    "metadata": {},
                    "output_type": "execute_result"
                }
            ],
            "source": "url = 'http://cocl.us/Geospatial_data'\ndf_geo = pd.read_csv(url)\ndf_geo.head()"
        },
        {
            "cell_type": "markdown",
            "metadata": {},
            "source": "Check the shape of the csv file."
        },
        {
            "cell_type": "code",
            "execution_count": 9,
            "metadata": {},
            "outputs": [
                {
                    "data": {
                        "text/plain": "(103, 3)"
                    },
                    "execution_count": 9,
                    "metadata": {},
                    "output_type": "execute_result"
                }
            ],
            "source": "df_geo.shape"
        },
        {
            "cell_type": "markdown",
            "metadata": {},
            "source": "Since both tables are having the same shape, we can now join the data into our previous table."
        },
        {
            "cell_type": "code",
            "execution_count": 10,
            "metadata": {},
            "outputs": [
                {
                    "data": {
                        "text/plain": "<bound method NDFrame.head of     Postal Code           Borough  \\\n2           M3A        North York   \n3           M4A        North York   \n4           M5A  Downtown Toronto   \n5           M6A        North York   \n6           M7A  Downtown Toronto   \n8           M9A         Etobicoke   \n9           M1B       Scarborough   \n11          M3B        North York   \n12          M4B         East York   \n13          M5B  Downtown Toronto   \n14          M6B        North York   \n17          M9B         Etobicoke   \n18          M1C       Scarborough   \n20          M3C        North York   \n21          M4C         East York   \n22          M5C  Downtown Toronto   \n23          M6C              York   \n26          M9C         Etobicoke   \n27          M1E       Scarborough   \n30          M4E      East Toronto   \n31          M5E  Downtown Toronto   \n32          M6E              York   \n36          M1G       Scarborough   \n39          M4G         East York   \n40          M5G  Downtown Toronto   \n41          M6G  Downtown Toronto   \n45          M1H       Scarborough   \n46          M2H        North York   \n47          M3H        North York   \n48          M4H         East York   \n..          ...               ...   \n111         M4R   Central Toronto   \n112         M5R   Central Toronto   \n113         M6R      West Toronto   \n114         M7R       Mississauga   \n116         M9R         Etobicoke   \n117         M1S       Scarborough   \n120         M4S   Central Toronto   \n121         M5S  Downtown Toronto   \n122         M6S      West Toronto   \n126         M1T       Scarborough   \n129         M4T   Central Toronto   \n130         M5T  Downtown Toronto   \n135         M1V       Scarborough   \n138         M4V   Central Toronto   \n139         M5V  Downtown Toronto   \n142         M8V         Etobicoke   \n143         M9V         Etobicoke   \n144         M1W       Scarborough   \n147         M4W  Downtown Toronto   \n148         M5W  Downtown Toronto   \n151         M8W         Etobicoke   \n152         M9W         Etobicoke   \n153         M1X       Scarborough   \n156         M4X  Downtown Toronto   \n157         M5X  Downtown Toronto   \n160         M8X         Etobicoke   \n165         M4Y  Downtown Toronto   \n168         M7Y      East Toronto   \n169         M8Y         Etobicoke   \n178         M8Z         Etobicoke   \n\n                                          Neighborhood   Latitude  Longitude  \n2                                            Parkwoods  43.753259 -79.329656  \n3                                     Victoria Village  43.725882 -79.315572  \n4                            Regent Park, Harbourfront  43.654260 -79.360636  \n5                     Lawrence Manor, Lawrence Heights  43.718518 -79.464763  \n6          Queen's Park, Ontario Provincial Government  43.662301 -79.389494  \n8              Islington Avenue, Humber Valley Village  43.667856 -79.532242  \n9                                       Malvern, Rouge  43.806686 -79.194353  \n11                                           Don Mills  43.745906 -79.352188  \n12                     Parkview Hill, Woodbine Gardens  43.706397 -79.309937  \n13                            Garden District, Ryerson  43.657162 -79.378937  \n14                                           Glencairn  43.709577 -79.445073  \n17   West Deane Park, Princess Gardens, Martin Grov...  43.650943 -79.554724  \n18              Rouge Hill, Port Union, Highland Creek  43.784535 -79.160497  \n20                                           Don Mills  43.725900 -79.340923  \n21                                    Woodbine Heights  43.695344 -79.318389  \n22                                      St. James Town  43.651494 -79.375418  \n23                                  Humewood-Cedarvale  43.693781 -79.428191  \n26   Eringate, Bloordale Gardens, Old Burnhamthorpe...  43.643515 -79.577201  \n27                   Guildwood, Morningside, West Hill  43.763573 -79.188711  \n30                                         The Beaches  43.676357 -79.293031  \n31                                         Berczy Park  43.644771 -79.373306  \n32                                 Caledonia-Fairbanks  43.689026 -79.453512  \n36                                              Woburn  43.770992 -79.216917  \n39                                             Leaside  43.709060 -79.363452  \n40                                  Central Bay Street  43.657952 -79.387383  \n41                                            Christie  43.669542 -79.422564  \n45                                           Cedarbrae  43.773136 -79.239476  \n46                                   Hillcrest Village  43.803762 -79.363452  \n47     Bathurst Manor, Wilson Heights, Downsview North  43.754328 -79.442259  \n48                                    Thorncliffe Park  43.705369 -79.349372  \n..                                                 ...        ...        ...  \n111                  North Toronto West, Lawrence Park  43.715383 -79.405678  \n112                The Annex, North Midtown, Yorkville  43.672710 -79.405678  \n113                             Parkdale, Roncesvalles  43.648960 -79.456325  \n114              Canada Post Gateway Processing Centre  43.636966 -79.615819  \n116  Kingsview Village, St. Phillips, Martin Grove ...  43.688905 -79.554724  \n117                                          Agincourt  43.794200 -79.262029  \n120                                         Davisville  43.704324 -79.388790  \n121                     University of Toronto, Harbord  43.662696 -79.400049  \n122                                 Runnymede, Swansea  43.651571 -79.484450  \n126            Clarks Corners, Tam O'Shanter, Sullivan  43.781638 -79.304302  \n129                        Moore Park, Summerhill East  43.689574 -79.383160  \n130          Kensington Market, Chinatown, Grange Park  43.653206 -79.400049  \n135  Milliken, Agincourt North, Steeles East, L'Amo...  43.815252 -79.284577  \n138  Summerhill West, Rathnelly, South Hill, Forest...  43.686412 -79.400049  \n139  CN Tower, King and Spadina, Railway Lands, Har...  43.628947 -79.394420  \n142       New Toronto, Mimico South, Humber Bay Shores  43.605647 -79.501321  \n143  South Steeles, Silverstone, Humbergate, Jamest...  43.739416 -79.588437  \n144                      Steeles West, L'Amoreaux West  43.799525 -79.318389  \n147                                           Rosedale  43.679563 -79.377529  \n148                                     Stn A PO Boxes  43.646435 -79.374846  \n151                             Alderwood, Long Branch  43.602414 -79.543484  \n152                Northwest, West Humber - Clairville  43.706748 -79.594054  \n153                                        Upper Rouge  43.836125 -79.205636  \n156                        St. James Town, Cabbagetown  43.667967 -79.367675  \n157             First Canadian Place, Underground city  43.648429 -79.382280  \n160      The Kingsway, Montgomery Road, Old Mill North  43.653654 -79.506944  \n165                               Church and Wellesley  43.665860 -79.383160  \n168  Business reply mail Processing Centre, South C...  43.662744 -79.321558  \n169  Old Mill South, King's Mill Park, Sunnylea, Hu...  43.636258 -79.498509  \n178  Mimico NW, The Queensway West, South of Bloor,...  43.628841 -79.520999  \n\n[103 rows x 5 columns]>"
                    },
                    "execution_count": 10,
                    "metadata": {},
                    "output_type": "execute_result"
                }
            ],
            "source": "df_toronto = df_new.join(df_geo.set_index('Postal Code'), on = 'Postal Code')\ndf_toronto.head"
        },
        {
            "cell_type": "code",
            "execution_count": null,
            "metadata": {},
            "outputs": [],
            "source": ""
        }
    ],
    "metadata": {
        "kernelspec": {
            "display_name": "Python 3.6",
            "language": "python",
            "name": "python3"
        },
        "language_info": {
            "codemirror_mode": {
                "name": "ipython",
                "version": 3
            },
            "file_extension": ".py",
            "mimetype": "text/x-python",
            "name": "python",
            "nbconvert_exporter": "python",
            "pygments_lexer": "ipython3",
            "version": "3.6.9"
        }
    },
    "nbformat": 4,
    "nbformat_minor": 1
}